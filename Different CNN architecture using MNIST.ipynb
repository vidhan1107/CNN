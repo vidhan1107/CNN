{
 "cells": [
  {
   "cell_type": "code",
   "execution_count": 0,
   "metadata": {
    "colab": {},
    "colab_type": "code",
    "id": "npd2UR--sNJb"
   },
   "outputs": [],
   "source": [
    "import keras\n",
    "from keras.datasets import mnist\n",
    "from keras.models import Sequential\n",
    "from keras.layers import Dense, Dropout, Activation, Flatten\n",
    "from keras import backend\n",
    "from keras.layers import Conv2D, MaxPooling2D\n",
    "from keras.utils import np_utils\n",
    "import matplotlib.pyplot as plt\n",
    "from keras.layers.normalization import BatchNormalization"
   ]
  },
  {
   "cell_type": "markdown",
   "metadata": {
    "colab_type": "text",
    "id": "Cy4E7ElatYYD"
   },
   "source": [
    "<h4>Plot Graph for loss"
   ]
  },
  {
   "cell_type": "code",
   "execution_count": 0,
   "metadata": {
    "colab": {},
    "colab_type": "code",
    "id": "7shOWoVSnCdD"
   },
   "outputs": [],
   "source": [
    "def plot_loss(epoch, valloss, trainloss):\n",
    "    plt.figure(figsize = (6,6))\n",
    "    plt.plot(epoch, valloss, 'r', label='Validation Loss')\n",
    "    plt.plot(epoch, trainloss, 'b', label='Train Loss')\n",
    "    plt.xlabel('Epochs') \n",
    "    plt.ylabel('Categorical Crossentropy Loss')\n",
    "    plt.title('\\nCategorical Crossentropy Loss VS Epochs')\n",
    "    plt.grid()\n",
    "    plt.legend()\n",
    "    plt.show();"
   ]
  },
  {
   "cell_type": "markdown",
   "metadata": {
    "colab_type": "text",
    "id": "cLm8afs5tN22"
   },
   "source": [
    "<h4> Load MNIST Data"
   ]
  },
  {
   "cell_type": "code",
   "execution_count": 7,
   "metadata": {
    "colab": {
     "base_uri": "https://localhost:8080/",
     "height": 68
    },
    "colab_type": "code",
    "id": "Wgt8KFmrsuD6",
    "outputId": "e3b4494d-2685-48b7-877c-12ce84c456c6"
   },
   "outputs": [
    {
     "name": "stdout",
     "output_type": "stream",
     "text": [
      "x_train shape (60000, 28, 28, 1)\n",
      "60000 train samples\n",
      "10000 test samples\n"
     ]
    }
   ],
   "source": [
    "# input image dimensions\n",
    "img_rows, img_cols = 28, 28\n",
    "\n",
    "num_classes =10\n",
    "batch_size =64\n",
    "epochs = 30\n",
    "\n",
    "(x_train, y_train), (x_test, y_test) = mnist.load_data()\n",
    "\n",
    "if(backend.image_data_format() == 'channels_first'):\n",
    "    # Theano\n",
    "    x_train = x_train.reshape(x_train.shape[0], 1, img_rows, img_cols)\n",
    "    x_test = x_test.reshape(x_test.shape[0], 1, img_rows, img_cols)\n",
    "    input_shape = (1, img_rows, img_cols)\n",
    "else:\n",
    "    # TensorFlow\n",
    "    x_train = x_train.reshape(x_train.shape[0], img_rows, img_cols, 1)\n",
    "    x_test = x_test.reshape(x_test.shape[0], img_rows, img_cols, 1)\n",
    "    input_shape = (img_rows, img_cols, 1)\n",
    "\n",
    "x_train = x_train.astype('float32')\n",
    "x_test = x_test.astype('float32')\n",
    "x_train /= 255\n",
    "x_test /= 255\n",
    "\n",
    "print(\"x_train shape\", x_train.shape)\n",
    "print(x_train.shape[0], \"train samples\")\n",
    "print(x_test.shape[0], 'test samples')\n",
    "    \n",
    "y_train = np_utils.to_categorical(y_train, num_classes)\n",
    "y_test = np_utils.to_categorical(y_test, num_classes)"
   ]
  },
  {
   "cell_type": "markdown",
   "metadata": {
    "colab_type": "text",
    "id": "eTa3JJYQtJ1n"
   },
   "source": [
    "<h2>Model with 2 Convolution Layer</h2>"
   ]
  },
  {
   "cell_type": "code",
   "execution_count": 8,
   "metadata": {
    "colab": {
     "base_uri": "https://localhost:8080/",
     "height": 1584
    },
    "colab_type": "code",
    "id": "YKT4fvVxKDNN",
    "outputId": "b299d320-dc67-433c-cbba-8343ce030f39"
   },
   "outputs": [
    {
     "name": "stdout",
     "output_type": "stream",
     "text": [
      "_________________________________________________________________\n",
      "Layer (type)                 Output Shape              Param #   \n",
      "=================================================================\n",
      "conv2d_3 (Conv2D)            (None, 26, 26, 6)         60        \n",
      "_________________________________________________________________\n",
      "max_pooling2d_3 (MaxPooling2 (None, 13, 13, 6)         0         \n",
      "_________________________________________________________________\n",
      "dropout_3 (Dropout)          (None, 13, 13, 6)         0         \n",
      "_________________________________________________________________\n",
      "conv2d_4 (Conv2D)            (None, 9, 9, 16)          2416      \n",
      "_________________________________________________________________\n",
      "max_pooling2d_4 (MaxPooling2 (None, 5, 5, 16)          0         \n",
      "_________________________________________________________________\n",
      "dropout_4 (Dropout)          (None, 5, 5, 16)          0         \n",
      "_________________________________________________________________\n",
      "flatten_1 (Flatten)          (None, 400)               0         \n",
      "_________________________________________________________________\n",
      "dense_1 (Dense)              (None, 120)               48120     \n",
      "_________________________________________________________________\n",
      "dropout_5 (Dropout)          (None, 120)               0         \n",
      "_________________________________________________________________\n",
      "dense_2 (Dense)              (None, 10)                1210      \n",
      "=================================================================\n",
      "Total params: 51,806\n",
      "Trainable params: 51,806\n",
      "Non-trainable params: 0\n",
      "_________________________________________________________________\n",
      "WARNING:tensorflow:From /usr/local/lib/python3.6/dist-packages/tensorflow/python/ops/math_ops.py:3066: to_int32 (from tensorflow.python.ops.math_ops) is deprecated and will be removed in a future version.\n",
      "Instructions for updating:\n",
      "Use tf.cast instead.\n",
      "Train on 60000 samples, validate on 10000 samples\n",
      "Epoch 1/30\n",
      "60000/60000 [==============================] - 31s 514us/step - loss: 0.4619 - acc: 0.8503 - val_loss: 0.0953 - val_acc: 0.9692\n",
      "Epoch 2/30\n",
      "60000/60000 [==============================] - 30s 500us/step - loss: 0.1824 - acc: 0.9457 - val_loss: 0.0713 - val_acc: 0.9762\n",
      "Epoch 3/30\n",
      "60000/60000 [==============================] - 30s 498us/step - loss: 0.1481 - acc: 0.9543 - val_loss: 0.0604 - val_acc: 0.9794\n",
      "Epoch 4/30\n",
      "60000/60000 [==============================] - 30s 500us/step - loss: 0.1292 - acc: 0.9622 - val_loss: 0.0476 - val_acc: 0.9825\n",
      "Epoch 5/30\n",
      "60000/60000 [==============================] - 30s 504us/step - loss: 0.1169 - acc: 0.9646 - val_loss: 0.0430 - val_acc: 0.9861\n",
      "Epoch 6/30\n",
      "60000/60000 [==============================] - 30s 501us/step - loss: 0.1073 - acc: 0.9674 - val_loss: 0.0401 - val_acc: 0.9875\n",
      "Epoch 7/30\n",
      "60000/60000 [==============================] - 30s 502us/step - loss: 0.1024 - acc: 0.9687 - val_loss: 0.0382 - val_acc: 0.9871\n",
      "Epoch 8/30\n",
      "60000/60000 [==============================] - 30s 497us/step - loss: 0.0909 - acc: 0.9712 - val_loss: 0.0362 - val_acc: 0.9883\n",
      "Epoch 9/30\n",
      "60000/60000 [==============================] - 30s 499us/step - loss: 0.0908 - acc: 0.9724 - val_loss: 0.0371 - val_acc: 0.9887\n",
      "Epoch 10/30\n",
      "60000/60000 [==============================] - 30s 502us/step - loss: 0.0845 - acc: 0.9750 - val_loss: 0.0323 - val_acc: 0.9885\n",
      "Epoch 11/30\n",
      "60000/60000 [==============================] - 30s 502us/step - loss: 0.0835 - acc: 0.9739 - val_loss: 0.0312 - val_acc: 0.9892\n",
      "Epoch 12/30\n",
      "60000/60000 [==============================] - 30s 500us/step - loss: 0.0817 - acc: 0.9750 - val_loss: 0.0327 - val_acc: 0.9884\n",
      "Epoch 13/30\n",
      "60000/60000 [==============================] - 30s 498us/step - loss: 0.0784 - acc: 0.9754 - val_loss: 0.0282 - val_acc: 0.9906\n",
      "Epoch 14/30\n",
      "60000/60000 [==============================] - 30s 500us/step - loss: 0.0771 - acc: 0.9759 - val_loss: 0.0306 - val_acc: 0.9895\n",
      "Epoch 15/30\n",
      "60000/60000 [==============================] - 30s 503us/step - loss: 0.0749 - acc: 0.9771 - val_loss: 0.0298 - val_acc: 0.9889\n",
      "Epoch 16/30\n",
      "60000/60000 [==============================] - 30s 497us/step - loss: 0.0740 - acc: 0.9771 - val_loss: 0.0288 - val_acc: 0.9909\n",
      "Epoch 17/30\n",
      "60000/60000 [==============================] - 30s 496us/step - loss: 0.0738 - acc: 0.9777 - val_loss: 0.0275 - val_acc: 0.9902\n",
      "Epoch 18/30\n",
      "60000/60000 [==============================] - 29s 488us/step - loss: 0.0692 - acc: 0.9781 - val_loss: 0.0296 - val_acc: 0.9894\n",
      "Epoch 19/30\n",
      "60000/60000 [==============================] - 31s 520us/step - loss: 0.0693 - acc: 0.9789 - val_loss: 0.0290 - val_acc: 0.9895\n",
      "Epoch 20/30\n",
      "60000/60000 [==============================] - 31s 510us/step - loss: 0.0658 - acc: 0.9797 - val_loss: 0.0271 - val_acc: 0.9908\n",
      "Epoch 21/30\n",
      "60000/60000 [==============================] - 30s 505us/step - loss: 0.0697 - acc: 0.9783 - val_loss: 0.0277 - val_acc: 0.9903\n",
      "Epoch 22/30\n",
      "60000/60000 [==============================] - 31s 516us/step - loss: 0.0656 - acc: 0.9799 - val_loss: 0.0274 - val_acc: 0.9901\n",
      "Epoch 23/30\n",
      "60000/60000 [==============================] - 32s 525us/step - loss: 0.0660 - acc: 0.9798 - val_loss: 0.0280 - val_acc: 0.9904\n",
      "Epoch 24/30\n",
      "60000/60000 [==============================] - 31s 521us/step - loss: 0.0672 - acc: 0.9796 - val_loss: 0.0289 - val_acc: 0.9909\n",
      "Epoch 25/30\n",
      "60000/60000 [==============================] - 32s 533us/step - loss: 0.0617 - acc: 0.9805 - val_loss: 0.0255 - val_acc: 0.9912\n",
      "Epoch 26/30\n",
      "60000/60000 [==============================] - 32s 527us/step - loss: 0.0622 - acc: 0.9811 - val_loss: 0.0266 - val_acc: 0.9906\n",
      "Epoch 27/30\n",
      "60000/60000 [==============================] - 31s 516us/step - loss: 0.0633 - acc: 0.9811 - val_loss: 0.0259 - val_acc: 0.9926\n",
      "Epoch 28/30\n",
      "60000/60000 [==============================] - 31s 514us/step - loss: 0.0613 - acc: 0.9808 - val_loss: 0.0265 - val_acc: 0.9904\n",
      "Epoch 29/30\n",
      "60000/60000 [==============================] - 31s 518us/step - loss: 0.0602 - acc: 0.9820 - val_loss: 0.0263 - val_acc: 0.9910\n",
      "Epoch 30/30\n",
      "60000/60000 [==============================] - 31s 523us/step - loss: 0.0633 - acc: 0.9806 - val_loss: 0.0242 - val_acc: 0.9919\n"
     ]
    }
   ],
   "source": [
    "# Initializing the model\n",
    "model = Sequential()\n",
    "\n",
    "# Adding First Conv Layer\n",
    "model.add(Conv2D(6, kernel_size=(3,3), activation='relu', input_shape = input_shape))\n",
    "model.add(MaxPooling2D(pool_size=(2,2), padding='same'))\n",
    "model.add(Dropout(0.25))\n",
    "\n",
    "# Adding Second Conv Layer\n",
    "model.add(Conv2D(16, kernel_size=(5,5), activation='relu'))\n",
    "model.add(MaxPooling2D(pool_size=(2,2), padding='same'))\n",
    "model.add(Dropout(0.25))\n",
    "\n",
    "model.add(Flatten())\n",
    "model.add(Dense(120, activation='relu'))\n",
    "model.add(Dropout(0.5))\n",
    "model.add(Dense(num_classes, activation='softmax'))\n",
    "\n",
    "model.summary()\n",
    "\n",
    "model.compile(optimizer = keras.optimizers.Adam(),\n",
    "             loss = keras.losses.categorical_crossentropy,\n",
    "             metrics = ['accuracy'])\n",
    "\n",
    "history_2 = model.fit(x_train, y_train, batch_size=batch_size, epochs =epochs, verbose=1, validation_data = (x_test, y_test))"
   ]
  },
  {
   "cell_type": "code",
   "execution_count": 9,
   "metadata": {
    "colab": {
     "base_uri": "https://localhost:8080/",
     "height": 453
    },
    "colab_type": "code",
    "id": "vJy4nmqa8x-b",
    "outputId": "678394ea-2564-4965-db7a-24141ee676ed"
   },
   "outputs": [
    {
     "name": "stdout",
     "output_type": "stream",
     "text": [
      "Test loss 0.024233725599301398\n",
      "Test accuracy 0.9919\n"
     ]
    },
    {
     "data": {
      "image/png": "[encoded data removed]",
      "text/plain": [
       "<Figure size 432x432 with 1 Axes>"
      ]
     },
     "metadata": {
      "tags": []
     },
     "output_type": "display_data"
    }
   ],
   "source": [
    "# Evaluating the model\n",
    "score = model.evaluate(x_test, y_test, verbose=0)\n",
    "\n",
    "print(\"Test loss\", score[0])\n",
    "print(\"Test accuracy\", score[1])\n",
    "\n",
    "# Test and train accuracy of the model\n",
    "model2_train = max(history_2.history['acc'])\n",
    "model2_test =score[1]\n",
    "\n",
    "# list of epoch numbers\n",
    "epoch = list(range(1, epochs+1))\n",
    "\n",
    "# Validation loss\n",
    "valLoss = history_2.history['val_loss']\n",
    "# Training loss\n",
    "trainLoss = history_2.history['loss']\n",
    "\n",
    "# Error plot\n",
    "plot_loss(epoch, valLoss, trainLoss)"
   ]
  },
  {
   "cell_type": "markdown",
   "metadata": {
    "colab_type": "text",
    "id": "-1MM3jH5jIC8"
   },
   "source": [
    "<h3>Model with 4 Convolution Layer"
   ]
  },
  {
   "cell_type": "code",
   "execution_count": 10,
   "metadata": {
    "colab": {
     "base_uri": "https://localhost:8080/",
     "height": 1615
    },
    "colab_type": "code",
    "id": "_tGJE2vWjPnP",
    "outputId": "78e144f1-d59f-432f-aec2-4742f5db4167"
   },
   "outputs": [
    {
     "name": "stdout",
     "output_type": "stream",
     "text": [
      "_________________________________________________________________\n",
      "Layer (type)                 Output Shape              Param #   \n",
      "=================================================================\n",
      "conv2d_5 (Conv2D)            (None, 26, 26, 12)        120       \n",
      "_________________________________________________________________\n",
      "conv2d_6 (Conv2D)            (None, 22, 22, 24)        7224      \n",
      "_________________________________________________________________\n",
      "max_pooling2d_5 (MaxPooling2 (None, 11, 11, 24)        0         \n",
      "_________________________________________________________________\n",
      "dropout_6 (Dropout)          (None, 11, 11, 24)        0         \n",
      "_________________________________________________________________\n",
      "conv2d_7 (Conv2D)            (None, 9, 9, 36)          7812      \n",
      "_________________________________________________________________\n",
      "conv2d_8 (Conv2D)            (None, 7, 7, 36)          11700     \n",
      "_________________________________________________________________\n",
      "max_pooling2d_6 (MaxPooling2 (None, 4, 4, 36)          0         \n",
      "_________________________________________________________________\n",
      "dropout_7 (Dropout)          (None, 4, 4, 36)          0         \n",
      "_________________________________________________________________\n",
      "flatten_2 (Flatten)          (None, 576)               0         \n",
      "_________________________________________________________________\n",
      "dense_3 (Dense)              (None, 64)                36928     \n",
      "_________________________________________________________________\n",
      "batch_normalization_1 (Batch (None, 64)                256       \n",
      "_________________________________________________________________\n",
      "dropout_8 (Dropout)          (None, 64)                0         \n",
      "_________________________________________________________________\n",
      "dense_4 (Dense)              (None, 10)                650       \n",
      "=================================================================\n",
      "Total params: 64,690\n",
      "Trainable params: 64,562\n",
      "Non-trainable params: 128\n",
      "_________________________________________________________________\n",
      "Train on 60000 samples, validate on 10000 samples\n",
      "Epoch 1/30\n",
      "60000/60000 [==============================] - 143s 2ms/step - loss: 0.3907 - acc: 0.8797 - val_loss: 0.0509 - val_acc: 0.9841\n",
      "Epoch 2/30\n",
      "60000/60000 [==============================] - 143s 2ms/step - loss: 0.1114 - acc: 0.9676 - val_loss: 0.0395 - val_acc: 0.9882\n",
      "Epoch 3/30\n",
      "60000/60000 [==============================] - 141s 2ms/step - loss: 0.0847 - acc: 0.9756 - val_loss: 0.0251 - val_acc: 0.9920\n",
      "Epoch 4/30\n",
      "60000/60000 [==============================] - 141s 2ms/step - loss: 0.0707 - acc: 0.9796 - val_loss: 0.0285 - val_acc: 0.9903\n",
      "Epoch 5/30\n",
      "60000/60000 [==============================] - 142s 2ms/step - loss: 0.0600 - acc: 0.9822 - val_loss: 0.0217 - val_acc: 0.9936\n",
      "Epoch 6/30\n",
      "60000/60000 [==============================] - 144s 2ms/step - loss: 0.0567 - acc: 0.9832 - val_loss: 0.0244 - val_acc: 0.9926\n",
      "Epoch 7/30\n",
      "60000/60000 [==============================] - 147s 2ms/step - loss: 0.0526 - acc: 0.9845 - val_loss: 0.0207 - val_acc: 0.9921\n",
      "Epoch 8/30\n",
      "60000/60000 [==============================] - 146s 2ms/step - loss: 0.0499 - acc: 0.9849 - val_loss: 0.0205 - val_acc: 0.9937\n",
      "Epoch 9/30\n",
      "60000/60000 [==============================] - 145s 2ms/step - loss: 0.0477 - acc: 0.9857 - val_loss: 0.0211 - val_acc: 0.9935\n",
      "Epoch 10/30\n",
      "60000/60000 [==============================] - 146s 2ms/step - loss: 0.0435 - acc: 0.9871 - val_loss: 0.0171 - val_acc: 0.9949\n",
      "Epoch 11/30\n",
      "60000/60000 [==============================] - 148s 2ms/step - loss: 0.0398 - acc: 0.9882 - val_loss: 0.0198 - val_acc: 0.9935\n",
      "Epoch 12/30\n",
      "60000/60000 [==============================] - 147s 2ms/step - loss: 0.0397 - acc: 0.9883 - val_loss: 0.0172 - val_acc: 0.9943\n",
      "Epoch 13/30\n",
      "60000/60000 [==============================] - 147s 2ms/step - loss: 0.0378 - acc: 0.9888 - val_loss: 0.0158 - val_acc: 0.9948\n",
      "Epoch 14/30\n",
      "60000/60000 [==============================] - 148s 2ms/step - loss: 0.0366 - acc: 0.9889 - val_loss: 0.0168 - val_acc: 0.9943\n",
      "Epoch 15/30\n",
      "60000/60000 [==============================] - 148s 2ms/step - loss: 0.0357 - acc: 0.9889 - val_loss: 0.0161 - val_acc: 0.9952\n",
      "Epoch 16/30\n",
      "60000/60000 [==============================] - 150s 2ms/step - loss: 0.0340 - acc: 0.9898 - val_loss: 0.0188 - val_acc: 0.9947\n",
      "Epoch 17/30\n",
      "60000/60000 [==============================] - 149s 2ms/step - loss: 0.0342 - acc: 0.9900 - val_loss: 0.0199 - val_acc: 0.9937\n",
      "Epoch 18/30\n",
      "60000/60000 [==============================] - 149s 2ms/step - loss: 0.0323 - acc: 0.9906 - val_loss: 0.0191 - val_acc: 0.9942\n",
      "Epoch 19/30\n",
      "60000/60000 [==============================] - 148s 2ms/step - loss: 0.0314 - acc: 0.9910 - val_loss: 0.0178 - val_acc: 0.9947\n",
      "Epoch 20/30\n",
      "60000/60000 [==============================] - 149s 2ms/step - loss: 0.0313 - acc: 0.9905 - val_loss: 0.0172 - val_acc: 0.9948\n",
      "Epoch 21/30\n",
      "60000/60000 [==============================] - 149s 2ms/step - loss: 0.0311 - acc: 0.9909 - val_loss: 0.0151 - val_acc: 0.9955\n",
      "Epoch 22/30\n",
      "60000/60000 [==============================] - 149s 2ms/step - loss: 0.0309 - acc: 0.9907 - val_loss: 0.0144 - val_acc: 0.9958\n",
      "Epoch 23/30\n",
      "60000/60000 [==============================] - 149s 2ms/step - loss: 0.0285 - acc: 0.9911 - val_loss: 0.0159 - val_acc: 0.9951\n",
      "Epoch 24/30\n",
      "60000/60000 [==============================] - 150s 3ms/step - loss: 0.0302 - acc: 0.9912 - val_loss: 0.0194 - val_acc: 0.9944\n",
      "Epoch 25/30\n",
      "60000/60000 [==============================] - 149s 2ms/step - loss: 0.0280 - acc: 0.9914 - val_loss: 0.0140 - val_acc: 0.9953\n",
      "Epoch 26/30\n",
      "60000/60000 [==============================] - 147s 2ms/step - loss: 0.0268 - acc: 0.9922 - val_loss: 0.0152 - val_acc: 0.9956\n",
      "Epoch 27/30\n",
      "60000/60000 [==============================] - 147s 2ms/step - loss: 0.0268 - acc: 0.9923 - val_loss: 0.0158 - val_acc: 0.9957\n",
      "Epoch 28/30\n",
      "60000/60000 [==============================] - 145s 2ms/step - loss: 0.0245 - acc: 0.9925 - val_loss: 0.0133 - val_acc: 0.9954\n",
      "Epoch 29/30\n",
      "60000/60000 [==============================] - 147s 2ms/step - loss: 0.0245 - acc: 0.9925 - val_loss: 0.0153 - val_acc: 0.9962\n",
      "Epoch 30/30\n",
      "60000/60000 [==============================] - 145s 2ms/step - loss: 0.0246 - acc: 0.9927 - val_loss: 0.0167 - val_acc: 0.9951\n"
     ]
    }
   ],
   "source": [
    "# Initializing the model\n",
    "model = Sequential()\n",
    "\n",
    "# Adding First Conv Layer\n",
    "model.add(Conv2D(12, kernel_size=(3,3), activation='relu', input_shape = input_shape))\n",
    "# Adding Second Conv Layer\n",
    "model.add(Conv2D(24, kernel_size=(5,5), activation='relu'))\n",
    "# Adding MaxPool Layer\n",
    "model.add(MaxPooling2D(pool_size=(2,2), padding='same'))\n",
    "model.add(Dropout(0.25))\n",
    "\n",
    "# Adding Third Conv Layer\n",
    "model.add(Conv2D(36, kernel_size=(3,3), activation='relu'))\n",
    "# Adding Fourth Conv Layer\n",
    "model.add(Conv2D(36, kernel_size=(3,3), activation='relu'))\n",
    "# Adding MaxPool Layer\n",
    "model.add(MaxPooling2D(pool_size=(2,2), padding='same'))\n",
    "model.add(Dropout(0.4))\n",
    "\n",
    "# Adding Flatten Layer\n",
    "model.add(Flatten())\n",
    "# Adding First Hidden Layer\n",
    "model.add(Dense(64, activation='relu'))\n",
    "model.add(BatchNormalization())\n",
    "model.add(Dropout(0.5))\n",
    "\n",
    "# Adding Output Layer\n",
    "model.add(Dense(num_classes, activation='softmax'))\n",
    "\n",
    "model.summary()\n",
    "\n",
    "model.compile(optimizer = keras.optimizers.Adam(),\n",
    "             loss = keras.losses.categorical_crossentropy,\n",
    "             metrics = ['accuracy'])\n",
    "\n",
    "history_4 = model.fit(x_train, y_train, batch_size=batch_size, epochs =epochs, verbose=1, validation_data = (x_test, y_test))"
   ]
  },
  {
   "cell_type": "code",
   "execution_count": 11,
   "metadata": {
    "colab": {
     "base_uri": "https://localhost:8080/",
     "height": 453
    },
    "colab_type": "code",
    "id": "7A2rrI_S-fHK",
    "outputId": "3c638993-f86a-448c-df11-45c6091b15b5"
   },
   "outputs": [
    {
     "name": "stdout",
     "output_type": "stream",
     "text": [
      "Test loss 0.01670674963645597\n",
      "Test accuracy 0.9951\n"
     ]
    },
    {
     "data": {
      "image/png": "[encoded data removed]",
      "text/plain": [
       "<Figure size 432x432 with 1 Axes>"
      ]
     },
     "metadata": {
      "tags": []
     },
     "output_type": "display_data"
    }
   ],
   "source": [
    "# Evaluating the model\n",
    "score = model.evaluate(x_test, y_test, verbose=0)\n",
    "\n",
    "print(\"Test loss\", score[0])\n",
    "print(\"Test accuracy\", score[1])\n",
    "\n",
    "# Test and train accuracy of the model\n",
    "model4_train = max(history_4.history['acc'])\n",
    "model4_test =score[1]\n",
    "\n",
    "# list of epoch numbers\n",
    "epoch = list(range(1, epochs+1))\n",
    "\n",
    "# Validation loss\n",
    "valLoss = history_4.history['val_loss']\n",
    "# Training loss\n",
    "trainLoss = history_4.history['loss']\n",
    "\n",
    "# Error plot\n",
    "plot_loss(epoch, valLoss, trainLoss)"
   ]
  },
  {
   "cell_type": "markdown",
   "metadata": {
    "colab_type": "text",
    "id": "qgGtDmPP_i0p"
   },
   "source": [
    "<h4> Model with 6 Convolution Layer"
   ]
  },
  {
   "cell_type": "code",
   "execution_count": 12,
   "metadata": {
    "colab": {
     "base_uri": "https://localhost:8080/",
     "height": 1717
    },
    "colab_type": "code",
    "id": "-IsDmNEU_qVz",
    "outputId": "facbe5db-05b2-46cf-a083-1ebb64e8fad1"
   },
   "outputs": [
    {
     "name": "stdout",
     "output_type": "stream",
     "text": [
      "_________________________________________________________________\n",
      "Layer (type)                 Output Shape              Param #   \n",
      "=================================================================\n",
      "conv2d_9 (Conv2D)            (None, 27, 27, 8)         40        \n",
      "_________________________________________________________________\n",
      "conv2d_10 (Conv2D)           (None, 26, 26, 16)        528       \n",
      "_________________________________________________________________\n",
      "max_pooling2d_7 (MaxPooling2 (None, 13, 13, 16)        0         \n",
      "_________________________________________________________________\n",
      "dropout_9 (Dropout)          (None, 13, 13, 16)        0         \n",
      "_________________________________________________________________\n",
      "conv2d_11 (Conv2D)           (None, 11, 11, 24)        3480      \n",
      "_________________________________________________________________\n",
      "max_pooling2d_8 (MaxPooling2 (None, 6, 6, 24)          0         \n",
      "_________________________________________________________________\n",
      "conv2d_12 (Conv2D)           (None, 4, 4, 24)          5208      \n",
      "_________________________________________________________________\n",
      "conv2d_13 (Conv2D)           (None, 2, 2, 36)          7812      \n",
      "_________________________________________________________________\n",
      "conv2d_14 (Conv2D)           (None, 1, 1, 36)          5220      \n",
      "_________________________________________________________________\n",
      "max_pooling2d_9 (MaxPooling2 (None, 1, 1, 36)          0         \n",
      "_________________________________________________________________\n",
      "dropout_10 (Dropout)         (None, 1, 1, 36)          0         \n",
      "_________________________________________________________________\n",
      "flatten_3 (Flatten)          (None, 36)                0         \n",
      "_________________________________________________________________\n",
      "dense_5 (Dense)              (None, 128)               4736      \n",
      "_________________________________________________________________\n",
      "batch_normalization_2 (Batch (None, 128)               512       \n",
      "_________________________________________________________________\n",
      "dropout_11 (Dropout)         (None, 128)               0         \n",
      "_________________________________________________________________\n",
      "dense_6 (Dense)              (None, 10)                1290      \n",
      "=================================================================\n",
      "Total params: 28,826\n",
      "Trainable params: 28,570\n",
      "Non-trainable params: 256\n",
      "_________________________________________________________________\n",
      "Train on 60000 samples, validate on 10000 samples\n",
      "Epoch 1/30\n",
      "60000/60000 [==============================] - 51s 842us/step - loss: 0.3411 - acc: 0.8921 - val_loss: 0.0836 - val_acc: 0.9742\n",
      "Epoch 2/30\n",
      "60000/60000 [==============================] - 50s 828us/step - loss: 0.1166 - acc: 0.9660 - val_loss: 0.0559 - val_acc: 0.9832\n",
      "Epoch 3/30\n",
      "60000/60000 [==============================] - 50s 837us/step - loss: 0.0869 - acc: 0.9744 - val_loss: 0.0377 - val_acc: 0.9888\n",
      "Epoch 4/30\n",
      "60000/60000 [==============================] - 49s 820us/step - loss: 0.0686 - acc: 0.9803 - val_loss: 0.0357 - val_acc: 0.9878\n",
      "Epoch 5/30\n",
      "60000/60000 [==============================] - 50s 825us/step - loss: 0.0599 - acc: 0.9822 - val_loss: 0.0325 - val_acc: 0.9899\n",
      "Epoch 6/30\n",
      "60000/60000 [==============================] - 50s 826us/step - loss: 0.0517 - acc: 0.9851 - val_loss: 0.0334 - val_acc: 0.9910\n",
      "Epoch 7/30\n",
      "60000/60000 [==============================] - 48s 799us/step - loss: 0.0454 - acc: 0.9875 - val_loss: 0.0296 - val_acc: 0.9915\n",
      "Epoch 8/30\n",
      "60000/60000 [==============================] - 48s 802us/step - loss: 0.0450 - acc: 0.9869 - val_loss: 0.0304 - val_acc: 0.9919\n",
      "Epoch 9/30\n",
      "60000/60000 [==============================] - 55s 920us/step - loss: 0.0410 - acc: 0.9881 - val_loss: 0.0405 - val_acc: 0.9887\n",
      "Epoch 10/30\n",
      "60000/60000 [==============================] - 51s 852us/step - loss: 0.0360 - acc: 0.9897 - val_loss: 0.0366 - val_acc: 0.9892\n",
      "Epoch 11/30\n",
      "60000/60000 [==============================] - 52s 861us/step - loss: 0.0329 - acc: 0.9907 - val_loss: 0.0262 - val_acc: 0.9924\n",
      "Epoch 12/30\n",
      "60000/60000 [==============================] - 52s 866us/step - loss: 0.0327 - acc: 0.9911 - val_loss: 0.0262 - val_acc: 0.9928\n",
      "Epoch 13/30\n",
      "60000/60000 [==============================] - 52s 867us/step - loss: 0.0295 - acc: 0.9914 - val_loss: 0.0328 - val_acc: 0.9910\n",
      "Epoch 14/30\n",
      "60000/60000 [==============================] - 52s 866us/step - loss: 0.0287 - acc: 0.9917 - val_loss: 0.0283 - val_acc: 0.9922\n",
      "Epoch 15/30\n",
      "60000/60000 [==============================] - 53s 878us/step - loss: 0.0279 - acc: 0.9919 - val_loss: 0.0281 - val_acc: 0.9927\n",
      "Epoch 16/30\n",
      "60000/60000 [==============================] - 53s 888us/step - loss: 0.0268 - acc: 0.9924 - val_loss: 0.0292 - val_acc: 0.9923\n",
      "Epoch 17/30\n",
      "60000/60000 [==============================] - 53s 889us/step - loss: 0.0248 - acc: 0.9929 - val_loss: 0.0251 - val_acc: 0.9928\n",
      "Epoch 18/30\n",
      "60000/60000 [==============================] - 53s 888us/step - loss: 0.0241 - acc: 0.9934 - val_loss: 0.0306 - val_acc: 0.9925\n",
      "Epoch 19/30\n",
      "60000/60000 [==============================] - 53s 889us/step - loss: 0.0227 - acc: 0.9933 - val_loss: 0.0277 - val_acc: 0.9928\n",
      "Epoch 20/30\n",
      "60000/60000 [==============================] - 54s 901us/step - loss: 0.0215 - acc: 0.9935 - val_loss: 0.0299 - val_acc: 0.9924\n",
      "Epoch 21/30\n",
      "60000/60000 [==============================] - 53s 890us/step - loss: 0.0207 - acc: 0.9939 - val_loss: 0.0289 - val_acc: 0.9931\n",
      "Epoch 22/30\n",
      "60000/60000 [==============================] - 53s 884us/step - loss: 0.0200 - acc: 0.9942 - val_loss: 0.0305 - val_acc: 0.9920\n",
      "Epoch 23/30\n",
      "60000/60000 [==============================] - 53s 883us/step - loss: 0.0207 - acc: 0.9940 - val_loss: 0.0301 - val_acc: 0.9923\n",
      "Epoch 24/30\n",
      "60000/60000 [==============================] - 53s 876us/step - loss: 0.0181 - acc: 0.9948 - val_loss: 0.0339 - val_acc: 0.9930\n",
      "Epoch 25/30\n",
      "60000/60000 [==============================] - 53s 892us/step - loss: 0.0203 - acc: 0.9939 - val_loss: 0.0316 - val_acc: 0.9928\n",
      "Epoch 26/30\n",
      "60000/60000 [==============================] - 53s 890us/step - loss: 0.0169 - acc: 0.9953 - val_loss: 0.0266 - val_acc: 0.9931\n",
      "Epoch 27/30\n",
      "60000/60000 [==============================] - 52s 870us/step - loss: 0.0170 - acc: 0.9949 - val_loss: 0.0285 - val_acc: 0.9920\n",
      "Epoch 28/30\n",
      "60000/60000 [==============================] - 51s 848us/step - loss: 0.0153 - acc: 0.9954 - val_loss: 0.0260 - val_acc: 0.9933\n",
      "Epoch 29/30\n",
      "60000/60000 [==============================] - 52s 869us/step - loss: 0.0157 - acc: 0.9955 - val_loss: 0.0313 - val_acc: 0.9930\n",
      "Epoch 30/30\n",
      "60000/60000 [==============================] - 53s 889us/step - loss: 0.0166 - acc: 0.9951 - val_loss: 0.0326 - val_acc: 0.9925\n"
     ]
    }
   ],
   "source": [
    "# Initializing the model\n",
    "model = Sequential()\n",
    "\n",
    "# Adding First Conv Layer\n",
    "model.add(Conv2D(8, kernel_size=(2,2), activation='relu', input_shape = input_shape))\n",
    "# Adding Second Conv Layer\n",
    "model.add(Conv2D(16, kernel_size=(2,2), activation='relu'))\n",
    "# Adding MaxPool Layer\n",
    "model.add(MaxPooling2D(pool_size=(2,2), padding='same'))\n",
    "model.add(Dropout(0.25))\n",
    "\n",
    "# Adding Third Conv Layer\n",
    "model.add(Conv2D(24, kernel_size=(3,3), activation='relu'))\n",
    "# Adding MaxPool Layer\n",
    "model.add(MaxPooling2D(pool_size=(2,2), padding='same'))\n",
    "\n",
    "# Adding Fourth Conv Layer\n",
    "model.add(Conv2D(24, kernel_size=(3,3), activation='relu'))\n",
    "# Adding Fifth Conv Layer\n",
    "model.add(Conv2D(36, kernel_size=(3,3), activation='relu'))\n",
    "# Adding Sixth Conv Layer\n",
    "model.add(Conv2D(36, kernel_size=(2,2), activation='relu'))\n",
    "# Adding MaxPool Layer\n",
    "model.add(MaxPooling2D(pool_size=(2,2), padding='same'))\n",
    "model.add(Dropout(0.2))\n",
    "\n",
    "# Adding Flatten Layer\n",
    "model.add(Flatten())\n",
    "# Adding First Hidden Layer\n",
    "model.add(Dense(128, activation='relu'))\n",
    "model.add(BatchNormalization())\n",
    "model.add(Dropout(0.3))\n",
    "\n",
    "# Adding Output Layer\n",
    "model.add(Dense(num_classes, activation='softmax'))\n",
    "\n",
    "model.summary()\n",
    "\n",
    "model.compile(optimizer = keras.optimizers.Adam(),\n",
    "             loss = keras.losses.categorical_crossentropy,\n",
    "             metrics = ['accuracy'])\n",
    "\n",
    "history_6 = model.fit(x_train, y_train, batch_size=batch_size, epochs =epochs, verbose=1, validation_data = (x_test, y_test))"
   ]
  },
  {
   "cell_type": "code",
   "execution_count": 13,
   "metadata": {
    "colab": {
     "base_uri": "https://localhost:8080/",
     "height": 453
    },
    "colab_type": "code",
    "id": "COxysd57_rDh",
    "outputId": "bb66236e-658d-4229-f44a-e8374bd2c9b9"
   },
   "outputs": [
    {
     "name": "stdout",
     "output_type": "stream",
     "text": [
      "Test loss 0.0326356014643894\n",
      "Test accuracy 0.9925\n"
     ]
    },
    {
     "data": {
      "image/png": "[encoded data removed]",
      "text/plain": [
       "<Figure size 432x432 with 1 Axes>"
      ]
     },
     "metadata": {
      "tags": []
     },
     "output_type": "display_data"
    }
   ],
   "source": [
    "# Evaluating the model\n",
    "score = model.evaluate(x_test, y_test, verbose=0)\n",
    "\n",
    "print(\"Test loss\", score[0])\n",
    "print(\"Test accuracy\", score[1])\n",
    "\n",
    "# Test and train accuracy of the model\n",
    "model6_train = max(history_6.history['acc'])\n",
    "model6_test =score[1]\n",
    "\n",
    "# list of epoch numbers\n",
    "epoch = list(range(1, epochs+1))\n",
    "\n",
    "# Validation loss\n",
    "valLoss = history_6.history['val_loss']\n",
    "# Training loss\n",
    "trainLoss = history_6.history['loss']\n",
    "\n",
    "# Error plot\n",
    "plot_loss(epoch, valLoss, trainLoss)"
   ]
  },
  {
   "cell_type": "markdown",
   "metadata": {
    "colab_type": "text",
    "id": "xZvYnrKsBHcr"
   },
   "source": [
    "<h3>CONCLUSION</h3>"
   ]
  },
  {
   "cell_type": "markdown",
   "metadata": {
    "colab_type": "text",
    "id": "4_pLH_ncBQJd"
   },
   "source": [
    "**(a). Procedure Followed :**\n",
    "\n",
    "1.   Loaded MNIST dataset from Keras\n",
    "2.   Split the dataset into train and test\n",
    "3.   Normalize the train and test data\n",
    "4.   Convert class label into categorical data vector\n",
    "5.   Implement Softmax classifier with 2 , 4 and 6 convolution layers\n",
    "6.   Use kernel of different size (2,2), (3X3) and (5X5) \n",
    "7.   Added Dropout and Batch Normalization to the hidden layers\n",
    "8.   Plotted Categorical Crossentropy Loss VS No.of Epochs\n"
   ]
  },
  {
   "cell_type": "markdown",
   "metadata": {
    "colab_type": "text",
    "id": "KJ87h6GNCWMZ"
   },
   "source": [
    "**(b) Table (Different models with their train and test accuracies):**"
   ]
  },
  {
   "cell_type": "code",
   "execution_count": 14,
   "metadata": {
    "colab": {
     "base_uri": "https://localhost:8080/",
     "height": 136
    },
    "colab_type": "code",
    "id": "mX8N7CXPChMB",
    "outputId": "67ab0523-f3a8-44ff-a166-261746323911"
   },
   "outputs": [
    {
     "name": "stdout",
     "output_type": "stream",
     "text": [
      "+-------+---------------------+--------------------+---------------+\n",
      "| S.NO. |        MODEL        | Training Accuracy  | Test Accuracy |\n",
      "+-------+---------------------+--------------------+---------------+\n",
      "|   1   |  CNN(2-Conv layers) |       0.982        |     0.9919    |\n",
      "|   2   | CNN(4-Conv layers)  |      0.99275       |     0.9951    |\n",
      "|   3   |  CNN(6-Conv layers) | 0.9955333333333334 |     0.9925    |\n",
      "+-------+---------------------+--------------------+---------------+\n"
     ]
    }
   ],
   "source": [
    "# Creating table using PrettyTable\n",
    "from prettytable import PrettyTable\n",
    "\n",
    "# Names of models\n",
    "names = ['CNN(2-Conv layers)','CNN(4-Conv layers) ', 'CNN(6-Conv layers)']\n",
    "\n",
    "# Training accuracy\n",
    "train_accuracy = [model2_train, model4_train, model6_train]\n",
    "\n",
    "# Test accuracy\n",
    "test_accuracy = [model2_test, model4_test, model6_test]\n",
    "\n",
    "numbering = [1,2,3]\n",
    "\n",
    "# Initializing prettytable\n",
    "ptable = PrettyTable()\n",
    "\n",
    "# Adding columns\n",
    "ptable.add_column(\"S.NO.\",numbering)\n",
    "ptable.add_column(\"MODEL\",names)\n",
    "ptable.add_column(\"Training Accuracy\",train_accuracy)\n",
    "ptable.add_column(\"Test Accuracy\",test_accuracy)\n",
    "\n",
    "# Printing the Table\n",
    "print(ptable)"
   ]
  }
 ],
 "metadata": {
  "colab": {
   "collapsed_sections": [],
   "name": "Assignment CNN_MNIST.ipynb",
   "provenance": [],
   "version": "0.3.2"
  },
  "kernelspec": {
   "display_name": "Python 3",
   "language": "python",
   "name": "python3"
  },
  "language_info": {
   "codemirror_mode": {
    "name": "ipython",
    "version": 3
   },
   "file_extension": ".py",
   "mimetype": "text/x-python",
   "name": "python",
   "nbconvert_exporter": "python",
   "pygments_lexer": "ipython3",
   "version": "3.7.0"
  }
 },
 "nbformat": 4,
 "nbformat_minor": 1
}
